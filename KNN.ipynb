{
 "cells": [
  {
   "cell_type": "code",
   "execution_count": 811,
   "metadata": {},
   "outputs": [],
   "source": [
    "# این کتابخانه برای کار با داده‌های توابع جدولی و عملیات مرتبط با آنها استفاده می‌شود.\n",
    "import pandas as pd\n",
    "# برای انجام عملیات عددی پیشرفته و کار با آرایه‌ها و سری‌های عددی استفاده می‌شود.\n",
    "import numpy as np\n"
   ]
  },
  {
   "cell_type": "markdown",
   "metadata": {},
   "source": [
    "# Importing Dataset"
   ]
  },
  {
   "cell_type": "code",
   "execution_count": 812,
   "metadata": {},
   "outputs": [],
   "source": [
    "# تابع read_csv() از کتابخانه پانداس صدا میزنیم تا فایل مشخص شده را در یک شی دیتافریم با نام دی اف ذخیره کنیم\n",
    "df = pd.read_csv(r'F:\\UNIVERCITY\\Term 6\\Rice_Cammeo_Osmancik.csv')"
   ]
  },
  {
   "cell_type": "markdown",
   "metadata": {},
   "source": [
    "# Preprocessing"
   ]
  },
  {
   "cell_type": "markdown",
   "metadata": {},
   "source": [
    "EDA"
   ]
  },
  {
   "cell_type": "code",
   "execution_count": 813,
   "metadata": {},
   "outputs": [
    {
     "data": {
      "text/html": [
       "<div>\n",
       "<style scoped>\n",
       "    .dataframe tbody tr th:only-of-type {\n",
       "        vertical-align: middle;\n",
       "    }\n",
       "\n",
       "    .dataframe tbody tr th {\n",
       "        vertical-align: top;\n",
       "    }\n",
       "\n",
       "    .dataframe thead th {\n",
       "        text-align: right;\n",
       "    }\n",
       "</style>\n",
       "<table border=\"1\" class=\"dataframe\">\n",
       "  <thead>\n",
       "    <tr style=\"text-align: right;\">\n",
       "      <th></th>\n",
       "      <th>Area</th>\n",
       "      <th>Perimeter</th>\n",
       "      <th>Major_Axis_Length</th>\n",
       "      <th>Minor_Axis_Length</th>\n",
       "      <th>Eccentricity</th>\n",
       "      <th>Convex_Area</th>\n",
       "      <th>Extent</th>\n",
       "      <th>Class</th>\n",
       "    </tr>\n",
       "  </thead>\n",
       "  <tbody>\n",
       "    <tr>\n",
       "      <th>0</th>\n",
       "      <td>7551</td>\n",
       "      <td>369.063995</td>\n",
       "      <td>163.408829</td>\n",
       "      <td>59.53240585</td>\n",
       "      <td>0.931275</td>\n",
       "      <td>7723</td>\n",
       "      <td>0.756462</td>\n",
       "      <td>Osmancik</td>\n",
       "    </tr>\n",
       "    <tr>\n",
       "      <th>1</th>\n",
       "      <td>8546</td>\n",
       "      <td>388.580994</td>\n",
       "      <td>172.519959</td>\n",
       "      <td>63.34475327</td>\n",
       "      <td>0.930152</td>\n",
       "      <td>8685</td>\n",
       "      <td>0.735456</td>\n",
       "      <td>Osmancik</td>\n",
       "    </tr>\n",
       "    <tr>\n",
       "      <th>2</th>\n",
       "      <td>7833</td>\n",
       "      <td>373.157013</td>\n",
       "      <td>162.516434</td>\n",
       "      <td>63.56500244</td>\n",
       "      <td>0.920336</td>\n",
       "      <td>8015</td>\n",
       "      <td>0.769752</td>\n",
       "      <td>Osmancik</td>\n",
       "    </tr>\n",
       "    <tr>\n",
       "      <th>3</th>\n",
       "      <td>9292</td>\n",
       "      <td>414.118988</td>\n",
       "      <td>183.639710</td>\n",
       "      <td>64.87107086</td>\n",
       "      <td>0.935528</td>\n",
       "      <td>9442</td>\n",
       "      <td>0.501078</td>\n",
       "      <td>Osmancik</td>\n",
       "    </tr>\n",
       "    <tr>\n",
       "      <th>4</th>\n",
       "      <td>7943</td>\n",
       "      <td>362.673004</td>\n",
       "      <td>154.886322</td>\n",
       "      <td>65.93088531</td>\n",
       "      <td>0.904877</td>\n",
       "      <td>8080</td>\n",
       "      <td>0.608659</td>\n",
       "      <td>Osmancik</td>\n",
       "    </tr>\n",
       "    <tr>\n",
       "      <th>5</th>\n",
       "      <td>9414</td>\n",
       "      <td>407.825012</td>\n",
       "      <td>179.545883</td>\n",
       "      <td>66.91815948</td>\n",
       "      <td>0.927949</td>\n",
       "      <td>9583</td>\n",
       "      <td>0.810434</td>\n",
       "      <td>Osmancik</td>\n",
       "    </tr>\n",
       "    <tr>\n",
       "      <th>6</th>\n",
       "      <td>9908</td>\n",
       "      <td>432.769012</td>\n",
       "      <td>188.187683</td>\n",
       "      <td>67.69534302</td>\n",
       "      <td>0.933059</td>\n",
       "      <td>10205</td>\n",
       "      <td>0.611680</td>\n",
       "      <td>Cammeo</td>\n",
       "    </tr>\n",
       "    <tr>\n",
       "      <th>7</th>\n",
       "      <td>8709</td>\n",
       "      <td>383.527008</td>\n",
       "      <td>164.193893</td>\n",
       "      <td>67.93288422</td>\n",
       "      <td>0.910397</td>\n",
       "      <td>8873</td>\n",
       "      <td>0.767989</td>\n",
       "      <td>Osmancik</td>\n",
       "    </tr>\n",
       "    <tr>\n",
       "      <th>8</th>\n",
       "      <td>9426</td>\n",
       "      <td>402.709992</td>\n",
       "      <td>175.974289</td>\n",
       "      <td>68.60753632</td>\n",
       "      <td>0.920869</td>\n",
       "      <td>9578</td>\n",
       "      <td>0.577432</td>\n",
       "      <td>Osmancik</td>\n",
       "    </tr>\n",
       "    <tr>\n",
       "      <th>9</th>\n",
       "      <td>9273</td>\n",
       "      <td>406.402008</td>\n",
       "      <td>173.414093</td>\n",
       "      <td>68.80253601</td>\n",
       "      <td>0.917925</td>\n",
       "      <td>9445</td>\n",
       "      <td>0.530098</td>\n",
       "      <td>Osmancik</td>\n",
       "    </tr>\n",
       "  </tbody>\n",
       "</table>\n",
       "</div>"
      ],
      "text/plain": [
       "   Area   Perimeter  Major_Axis_Length Minor_Axis_Length  Eccentricity  \\\n",
       "0  7551  369.063995         163.408829       59.53240585      0.931275   \n",
       "1  8546  388.580994         172.519959       63.34475327      0.930152   \n",
       "2  7833  373.157013         162.516434       63.56500244      0.920336   \n",
       "3  9292  414.118988         183.639710       64.87107086      0.935528   \n",
       "4  7943  362.673004         154.886322       65.93088531      0.904877   \n",
       "5  9414  407.825012         179.545883       66.91815948      0.927949   \n",
       "6  9908  432.769012         188.187683       67.69534302      0.933059   \n",
       "7  8709  383.527008         164.193893       67.93288422      0.910397   \n",
       "8  9426  402.709992         175.974289       68.60753632      0.920869   \n",
       "9  9273  406.402008         173.414093       68.80253601      0.917925   \n",
       "\n",
       "  Convex_Area    Extent     Class  \n",
       "0        7723  0.756462  Osmancik  \n",
       "1        8685  0.735456  Osmancik  \n",
       "2        8015  0.769752  Osmancik  \n",
       "3        9442  0.501078  Osmancik  \n",
       "4        8080  0.608659  Osmancik  \n",
       "5        9583  0.810434  Osmancik  \n",
       "6       10205  0.611680    Cammeo  \n",
       "7        8873  0.767989  Osmancik  \n",
       "8        9578  0.577432  Osmancik  \n",
       "9        9445  0.530098  Osmancik  "
      ]
     },
     "execution_count": 813,
     "metadata": {},
     "output_type": "execute_result"
    }
   ],
   "source": [
    "df.head(10)"
   ]
  },
  {
   "cell_type": "code",
   "execution_count": 814,
   "metadata": {},
   "outputs": [
    {
     "data": {
      "text/html": [
       "<div>\n",
       "<style scoped>\n",
       "    .dataframe tbody tr th:only-of-type {\n",
       "        vertical-align: middle;\n",
       "    }\n",
       "\n",
       "    .dataframe tbody tr th {\n",
       "        vertical-align: top;\n",
       "    }\n",
       "\n",
       "    .dataframe thead th {\n",
       "        text-align: right;\n",
       "    }\n",
       "</style>\n",
       "<table border=\"1\" class=\"dataframe\">\n",
       "  <thead>\n",
       "    <tr style=\"text-align: right;\">\n",
       "      <th></th>\n",
       "      <th>Area</th>\n",
       "      <th>Perimeter</th>\n",
       "      <th>Major_Axis_Length</th>\n",
       "      <th>Minor_Axis_Length</th>\n",
       "      <th>Eccentricity</th>\n",
       "      <th>Convex_Area</th>\n",
       "      <th>Extent</th>\n",
       "      <th>Class</th>\n",
       "    </tr>\n",
       "  </thead>\n",
       "  <tbody>\n",
       "    <tr>\n",
       "      <th>3817</th>\n",
       "      <td>9751</td>\n",
       "      <td>412.597992</td>\n",
       "      <td>175.450638</td>\n",
       "      <td>71.44275665</td>\n",
       "      <td>0.913341</td>\n",
       "      <td>10034</td>\n",
       "      <td>0.714359</td>\n",
       "      <td>Osmancik</td>\n",
       "    </tr>\n",
       "    <tr>\n",
       "      <th>3818</th>\n",
       "      <td>9802</td>\n",
       "      <td>412.368988</td>\n",
       "      <td>176.165573</td>\n",
       "      <td>71.48280334</td>\n",
       "      <td>0.913975</td>\n",
       "      <td>9991</td>\n",
       "      <td>0.566950</td>\n",
       "      <td>Osmancik</td>\n",
       "    </tr>\n",
       "    <tr>\n",
       "      <th>3819</th>\n",
       "      <td>8501</td>\n",
       "      <td>371.024994</td>\n",
       "      <td>153.896255</td>\n",
       "      <td>71.51190948</td>\n",
       "      <td>0.885481</td>\n",
       "      <td>8738</td>\n",
       "      <td>0.639846</td>\n",
       "      <td>Osmancik</td>\n",
       "    </tr>\n",
       "    <tr>\n",
       "      <th>3820</th>\n",
       "      <td>8850</td>\n",
       "      <td>381.433990</td>\n",
       "      <td>159.251205</td>\n",
       "      <td>71.76094818</td>\n",
       "      <td>0.892718</td>\n",
       "      <td>9063</td>\n",
       "      <td>0.572519</td>\n",
       "      <td>Osmancik</td>\n",
       "    </tr>\n",
       "    <tr>\n",
       "      <th>3821</th>\n",
       "      <td>10713</td>\n",
       "      <td>443.403992</td>\n",
       "      <td>192.886185</td>\n",
       "      <td>71.78689575</td>\n",
       "      <td>0.928164</td>\n",
       "      <td>10969</td>\n",
       "      <td>0.696101</td>\n",
       "      <td>Osmancik</td>\n",
       "    </tr>\n",
       "    <tr>\n",
       "      <th>3822</th>\n",
       "      <td>10151</td>\n",
       "      <td>420.899994</td>\n",
       "      <td>181.995575</td>\n",
       "      <td>72.09951019</td>\n",
       "      <td>0.918181</td>\n",
       "      <td>10407</td>\n",
       "      <td>0.521634</td>\n",
       "      <td>Osmancik</td>\n",
       "    </tr>\n",
       "    <tr>\n",
       "      <th>3823</th>\n",
       "      <td>10222</td>\n",
       "      <td>423.497009</td>\n",
       "      <td>182.800247</td>\n",
       "      <td>72.1242981</td>\n",
       "      <td>0.918873</td>\n",
       "      <td>10421</td>\n",
       "      <td>0.820385</td>\n",
       "      <td>Osmancik</td>\n",
       "    </tr>\n",
       "    <tr>\n",
       "      <th>3824</th>\n",
       "      <td>9216</td>\n",
       "      <td>384.342011</td>\n",
       "      <td>163.291626</td>\n",
       "      <td>72.26079559</td>\n",
       "      <td>0.896756</td>\n",
       "      <td>9352</td>\n",
       "      <td>0.624771</td>\n",
       "      <td>Osmancik</td>\n",
       "    </tr>\n",
       "    <tr>\n",
       "      <th>3825</th>\n",
       "      <td>11377</td>\n",
       "      <td>452.407989</td>\n",
       "      <td>201.306259</td>\n",
       "      <td>72.28141785</td>\n",
       "      <td>0.933314</td>\n",
       "      <td>11555</td>\n",
       "      <td>0.525545</td>\n",
       "      <td>Cammeo</td>\n",
       "    </tr>\n",
       "    <tr>\n",
       "      <th>3826</th>\n",
       "      <td>9598</td>\n",
       "      <td>397.000000</td>\n",
       "      <td>172.006790</td>\n",
       "      <td>72.28364563</td>\n",
       "      <td>0.907414</td>\n",
       "      <td>9766</td>\n",
       "      <td>0.796845</td>\n",
       "      <td>Osmancik</td>\n",
       "    </tr>\n",
       "  </tbody>\n",
       "</table>\n",
       "</div>"
      ],
      "text/plain": [
       "       Area   Perimeter  Major_Axis_Length Minor_Axis_Length  Eccentricity  \\\n",
       "3817   9751  412.597992         175.450638       71.44275665      0.913341   \n",
       "3818   9802  412.368988         176.165573       71.48280334      0.913975   \n",
       "3819   8501  371.024994         153.896255       71.51190948      0.885481   \n",
       "3820   8850  381.433990         159.251205       71.76094818      0.892718   \n",
       "3821  10713  443.403992         192.886185       71.78689575      0.928164   \n",
       "3822  10151  420.899994         181.995575       72.09951019      0.918181   \n",
       "3823  10222  423.497009         182.800247        72.1242981      0.918873   \n",
       "3824   9216  384.342011         163.291626       72.26079559      0.896756   \n",
       "3825  11377  452.407989         201.306259       72.28141785      0.933314   \n",
       "3826   9598  397.000000         172.006790       72.28364563      0.907414   \n",
       "\n",
       "     Convex_Area    Extent     Class  \n",
       "3817       10034  0.714359  Osmancik  \n",
       "3818        9991  0.566950  Osmancik  \n",
       "3819        8738  0.639846  Osmancik  \n",
       "3820        9063  0.572519  Osmancik  \n",
       "3821       10969  0.696101  Osmancik  \n",
       "3822       10407  0.521634  Osmancik  \n",
       "3823       10421  0.820385  Osmancik  \n",
       "3824        9352  0.624771  Osmancik  \n",
       "3825       11555  0.525545    Cammeo  \n",
       "3826        9766  0.796845  Osmancik  "
      ]
     },
     "execution_count": 814,
     "metadata": {},
     "output_type": "execute_result"
    }
   ],
   "source": [
    "df.tail(10)"
   ]
  },
  {
   "cell_type": "code",
   "execution_count": 815,
   "metadata": {},
   "outputs": [
    {
     "data": {
      "text/plain": [
       "Area                  object\n",
       "Perimeter            float64\n",
       "Major_Axis_Length    float64\n",
       "Minor_Axis_Length     object\n",
       "Eccentricity         float64\n",
       "Convex_Area           object\n",
       "Extent               float64\n",
       "Class                 object\n",
       "dtype: object"
      ]
     },
     "execution_count": 815,
     "metadata": {},
     "output_type": "execute_result"
    }
   ],
   "source": [
    "df.dtypes"
   ]
  },
  {
   "cell_type": "code",
   "execution_count": 816,
   "metadata": {},
   "outputs": [
    {
     "data": {
      "text/plain": [
       "Index(['Area', 'Perimeter', 'Major_Axis_Length', 'Minor_Axis_Length',\n",
       "       'Eccentricity', 'Convex_Area', 'Extent', 'Class'],\n",
       "      dtype='object')"
      ]
     },
     "execution_count": 816,
     "metadata": {},
     "output_type": "execute_result"
    }
   ],
   "source": [
    "df.columns"
   ]
  },
  {
   "cell_type": "code",
   "execution_count": 817,
   "metadata": {},
   "outputs": [
    {
     "name": "stdout",
     "output_type": "stream",
     "text": [
      "<class 'pandas.core.frame.DataFrame'>\n",
      "RangeIndex: 3827 entries, 0 to 3826\n",
      "Data columns (total 8 columns):\n",
      " #   Column             Non-Null Count  Dtype  \n",
      "---  ------             --------------  -----  \n",
      " 0   Area               3826 non-null   object \n",
      " 1   Perimeter          3827 non-null   float64\n",
      " 2   Major_Axis_Length  3824 non-null   float64\n",
      " 3   Minor_Axis_Length  3827 non-null   object \n",
      " 4   Eccentricity       3827 non-null   float64\n",
      " 5   Convex_Area        3825 non-null   object \n",
      " 6   Extent             3826 non-null   float64\n",
      " 7   Class              3827 non-null   object \n",
      "dtypes: float64(4), object(4)\n",
      "memory usage: 239.3+ KB\n"
     ]
    }
   ],
   "source": [
    "df.info()"
   ]
  },
  {
   "cell_type": "code",
   "execution_count": 818,
   "metadata": {},
   "outputs": [
    {
     "data": {
      "text/plain": [
       "8"
      ]
     },
     "execution_count": 818,
     "metadata": {},
     "output_type": "execute_result"
    }
   ],
   "source": [
    "len(df.columns)"
   ]
  },
  {
   "cell_type": "code",
   "execution_count": 819,
   "metadata": {},
   "outputs": [
    {
     "data": {
      "text/plain": [
       "3827"
      ]
     },
     "execution_count": 819,
     "metadata": {},
     "output_type": "execute_result"
    }
   ],
   "source": [
    "len(df)"
   ]
  },
  {
   "cell_type": "code",
   "execution_count": 820,
   "metadata": {},
   "outputs": [
    {
     "data": {
      "text/plain": [
       "(3827, 8)"
      ]
     },
     "execution_count": 820,
     "metadata": {},
     "output_type": "execute_result"
    }
   ],
   "source": [
    "df.shape"
   ]
  },
  {
   "cell_type": "code",
   "execution_count": 821,
   "metadata": {},
   "outputs": [
    {
     "name": "stdout",
     "output_type": "stream",
     "text": [
      "Area                 float64\n",
      "Perimeter            float64\n",
      "Major_Axis_Length    float64\n",
      "Minor_Axis_Length    float64\n",
      "Eccentricity         float64\n",
      "Convex_Area          float64\n",
      "Extent               float64\n",
      "Class                 object\n",
      "dtype: object\n"
     ]
    }
   ],
   "source": [
    "# در این خط، یک لیست با نام columns_to_convert ایجاد می‌کنیم و سه ستون به آن اختصاص میدهیم\n",
    "# این ستون ها برای تبدیل به نوع عددی استفاده خواهند شد\n",
    "\n",
    "columns_to_convert = ['Area', 'Minor_Axis_Length', 'Convex_Area']\n",
    "\n",
    "#در این خط، از تابع apply() بر روی  دیتا فریم استفاده میکنیم تا تابع\n",
    "# pd.to_numeric() را بر روی ستون‌های مشخص شده اجرا کنیم\n",
    "# این تابع به هر سلول در ستون‌ها تلاش می‌کند تا آن را به نوع عددی تبدیل کند\n",
    "# در صورتی که تبدیل ممکن نباشد، مقدار سلول به NaN (Not a Number) تغییر خواهد کرد.\n",
    "# پارامتر errors=\"coerce\" نیز برای تبدیل خطاها به NaN استفاده می‌شود.\n",
    "# برای تعیین رفتار تابع در مواجهه با خطاهای تبدیل استفاده می‌شود\n",
    "# اگر در ستونی که قرار است تبدیل شود، مقدار \"؟؟؟\" وجود داشته باشد، این مقدار در حالت پیش‌فرض به خطا منجر می‌شود \n",
    "# اما الان به نان تبدیل میشود و فرایند ادامه می یابد\n",
    "#  این رفتار معمولاً در مواقعی که می‌خواهیم داده‌های نامعتبر را به شکلی مشخص\n",
    "# مشخص کنیم و عملیات دیگری بر روی داده‌ها انجام دهیم، مورد استفاده قرار می‌گیرد.\n",
    "\n",
    "df[columns_to_convert] = df[columns_to_convert].apply(pd.to_numeric,errors=\"coerce\")\n",
    "\n",
    "print(df.dtypes)"
   ]
  },
  {
   "cell_type": "code",
   "execution_count": 822,
   "metadata": {},
   "outputs": [
    {
     "data": {
      "text/html": [
       "<div>\n",
       "<style scoped>\n",
       "    .dataframe tbody tr th:only-of-type {\n",
       "        vertical-align: middle;\n",
       "    }\n",
       "\n",
       "    .dataframe tbody tr th {\n",
       "        vertical-align: top;\n",
       "    }\n",
       "\n",
       "    .dataframe thead th {\n",
       "        text-align: right;\n",
       "    }\n",
       "</style>\n",
       "<table border=\"1\" class=\"dataframe\">\n",
       "  <thead>\n",
       "    <tr style=\"text-align: right;\">\n",
       "      <th></th>\n",
       "      <th>Area</th>\n",
       "      <th>Perimeter</th>\n",
       "      <th>Major_Axis_Length</th>\n",
       "      <th>Minor_Axis_Length</th>\n",
       "      <th>Eccentricity</th>\n",
       "      <th>Convex_Area</th>\n",
       "      <th>Extent</th>\n",
       "    </tr>\n",
       "  </thead>\n",
       "  <tbody>\n",
       "    <tr>\n",
       "      <th>count</th>\n",
       "      <td>3825.000000</td>\n",
       "      <td>3827.000000</td>\n",
       "      <td>3824.000000</td>\n",
       "      <td>3826.000000</td>\n",
       "      <td>3827.000000</td>\n",
       "      <td>3823.000000</td>\n",
       "      <td>3826.000000</td>\n",
       "    </tr>\n",
       "    <tr>\n",
       "      <th>mean</th>\n",
       "      <td>12661.573333</td>\n",
       "      <td>454.152591</td>\n",
       "      <td>188.785339</td>\n",
       "      <td>86.268655</td>\n",
       "      <td>0.886980</td>\n",
       "      <td>12946.780539</td>\n",
       "      <td>0.661831</td>\n",
       "    </tr>\n",
       "    <tr>\n",
       "      <th>std</th>\n",
       "      <td>1736.593318</td>\n",
       "      <td>35.649046</td>\n",
       "      <td>17.456787</td>\n",
       "      <td>5.778079</td>\n",
       "      <td>0.020873</td>\n",
       "      <td>1781.151847</td>\n",
       "      <td>0.077329</td>\n",
       "    </tr>\n",
       "    <tr>\n",
       "      <th>min</th>\n",
       "      <td>7551.000000</td>\n",
       "      <td>359.100006</td>\n",
       "      <td>145.264465</td>\n",
       "      <td>59.532406</td>\n",
       "      <td>0.777233</td>\n",
       "      <td>7723.000000</td>\n",
       "      <td>0.497413</td>\n",
       "    </tr>\n",
       "    <tr>\n",
       "      <th>25%</th>\n",
       "      <td>11363.000000</td>\n",
       "      <td>425.957993</td>\n",
       "      <td>174.356701</td>\n",
       "      <td>82.687365</td>\n",
       "      <td>0.872473</td>\n",
       "      <td>11619.500000</td>\n",
       "      <td>0.598717</td>\n",
       "    </tr>\n",
       "    <tr>\n",
       "      <th>50%</th>\n",
       "      <td>12418.000000</td>\n",
       "      <td>448.839996</td>\n",
       "      <td>185.827438</td>\n",
       "      <td>86.414566</td>\n",
       "      <td>0.889198</td>\n",
       "      <td>12704.000000</td>\n",
       "      <td>0.645275</td>\n",
       "    </tr>\n",
       "    <tr>\n",
       "      <th>75%</th>\n",
       "      <td>13949.000000</td>\n",
       "      <td>483.656494</td>\n",
       "      <td>203.559433</td>\n",
       "      <td>90.131281</td>\n",
       "      <td>0.902759</td>\n",
       "      <td>14282.000000</td>\n",
       "      <td>0.726392</td>\n",
       "    </tr>\n",
       "    <tr>\n",
       "      <th>max</th>\n",
       "      <td>18913.000000</td>\n",
       "      <td>548.445984</td>\n",
       "      <td>239.010498</td>\n",
       "      <td>107.542450</td>\n",
       "      <td>0.948007</td>\n",
       "      <td>19099.000000</td>\n",
       "      <td>0.861050</td>\n",
       "    </tr>\n",
       "  </tbody>\n",
       "</table>\n",
       "</div>"
      ],
      "text/plain": [
       "               Area    Perimeter  Major_Axis_Length  Minor_Axis_Length  \\\n",
       "count   3825.000000  3827.000000        3824.000000        3826.000000   \n",
       "mean   12661.573333   454.152591         188.785339          86.268655   \n",
       "std     1736.593318    35.649046          17.456787           5.778079   \n",
       "min     7551.000000   359.100006         145.264465          59.532406   \n",
       "25%    11363.000000   425.957993         174.356701          82.687365   \n",
       "50%    12418.000000   448.839996         185.827438          86.414566   \n",
       "75%    13949.000000   483.656494         203.559433          90.131281   \n",
       "max    18913.000000   548.445984         239.010498         107.542450   \n",
       "\n",
       "       Eccentricity   Convex_Area       Extent  \n",
       "count   3827.000000   3823.000000  3826.000000  \n",
       "mean       0.886980  12946.780539     0.661831  \n",
       "std        0.020873   1781.151847     0.077329  \n",
       "min        0.777233   7723.000000     0.497413  \n",
       "25%        0.872473  11619.500000     0.598717  \n",
       "50%        0.889198  12704.000000     0.645275  \n",
       "75%        0.902759  14282.000000     0.726392  \n",
       "max        0.948007  19099.000000     0.861050  "
      ]
     },
     "execution_count": 822,
     "metadata": {},
     "output_type": "execute_result"
    }
   ],
   "source": [
    "df.describe()\n",
    "# df['Perimeter'].max()"
   ]
  },
  {
   "cell_type": "markdown",
   "metadata": {},
   "source": [
    "Data Cleaning"
   ]
  },
  {
   "cell_type": "code",
   "execution_count": 823,
   "metadata": {},
   "outputs": [
    {
     "data": {
      "text/plain": [
       "0       False\n",
       "1       False\n",
       "2       False\n",
       "3       False\n",
       "4       False\n",
       "        ...  \n",
       "3822     True\n",
       "3823     True\n",
       "3824     True\n",
       "3825     True\n",
       "3826    False\n",
       "Length: 3827, dtype: bool"
      ]
     },
     "execution_count": 823,
     "metadata": {},
     "output_type": "execute_result"
    }
   ],
   "source": [
    "# نمایش دیتافریم قبل از حذف داده‌های تکراری\n",
    "df.duplicated()"
   ]
  },
  {
   "cell_type": "code",
   "execution_count": 824,
   "metadata": {},
   "outputs": [
    {
     "data": {
      "text/plain": [
       "0       False\n",
       "1       False\n",
       "2       False\n",
       "3       False\n",
       "4       False\n",
       "        ...  \n",
       "3812    False\n",
       "3813    False\n",
       "3814    False\n",
       "3815    False\n",
       "3826    False\n",
       "Length: 3811, dtype: bool"
      ]
     },
     "execution_count": 824,
     "metadata": {},
     "output_type": "execute_result"
    }
   ],
   "source": [
    "# حذف داده‌های تکراری بر اساس تمام ستون‌ها\n",
    "# نمایش دیتافریم پس از حذف داده‌های تکراری\n",
    "df = df.drop_duplicates()\n",
    "df.duplicated()"
   ]
  },
  {
   "cell_type": "code",
   "execution_count": 825,
   "metadata": {},
   "outputs": [
    {
     "name": "stdout",
     "output_type": "stream",
     "text": [
      "         Area   Perimeter  Major_Axis_Length  Minor_Axis_Length  Eccentricity  \\\n",
      "24        NaN  408.717011         175.733566          70.450180      0.916125   \n",
      "49     9598.0  397.000000         172.006790          72.283646      0.907414   \n",
      "170    9646.0  390.955994         162.013672          76.316422      0.882107   \n",
      "297   10128.0  403.725006         166.962952          78.247475      0.883383   \n",
      "377       NaN  445.739014         187.977097          79.080826      0.907203   \n",
      "395   11411.0  430.933990         184.309250          79.258125      0.902816   \n",
      "400    9822.0  398.334992                NaN          79.288460      0.869672   \n",
      "417   10561.0  417.933014         172.890717                NaN      0.887939   \n",
      "474   10811.0  420.231995                NaN          79.978386      0.888903   \n",
      "3432  11714.0  412.201996                NaN          93.225616      0.816083   \n",
      "3435  13218.0  454.997986         182.578400          93.237144      0.859777   \n",
      "\n",
      "      Convex_Area    Extent     Class  \n",
      "24         9779.0  0.516425  Osmancik  \n",
      "49            NaN  0.796845  Osmancik  \n",
      "170        9815.0       NaN  Osmancik  \n",
      "297           NaN  0.672242  Osmancik  \n",
      "377       11918.0  0.605429  Osmancik  \n",
      "395           NaN  0.647874    Cammeo  \n",
      "400       10085.0  0.631518  Osmancik  \n",
      "417       10804.0  0.647914  Osmancik  \n",
      "474       11027.0  0.683808  Osmancik  \n",
      "3432      11886.0  0.764322  Osmancik  \n",
      "3435          NaN  0.733315  Osmancik  \n"
     ]
    }
   ],
   "source": [
    "\n",
    "# یک دیتا فریم جدید با نام میسینگ رکوردز ایجاد میکنیم که شامل رکورد هایی است که حداقل یک ستون در آن ها مقدار گمشده دارد \n",
    "# برای شناسایی این رکورد ها از تابع ایز نال بر روی دیتا فریم استفاده میکنیم\n",
    "#با استفاده از تابع انی و پارامتراکسیس مساوی 1 رکوردهایی که حداقل یک ستون در آن‌ها مقدارنان داشته باشد شناسایی میکند\n",
    "# نتیجه، یک دیتافریم با رکوردهای شامل مقادیر گمشده است که در متغیرمیسینگ رکورد ذخیره می‌شود\n",
    "# سپس با استفاده از تابع پرینت رکوردهای شامل مقادیر گمشده نمایش داده می‌شوند\n",
    "\n",
    "# شناسایی رکوردهای شامل مقادیر گمشده\n",
    "missing_records = df[df.isnull().any(axis=1)]\n",
    "\n",
    "# نمایش رکوردهای شامل مقادیر گمشده\n",
    "print(missing_records)"
   ]
  },
  {
   "cell_type": "code",
   "execution_count": 826,
   "metadata": {},
   "outputs": [],
   "source": [
    "#برای حذف ردیف هایی که شامل مقادیر گمشده هستند از تابع دراپ نا استفاده میشود\n",
    "#این تابع هر ردیفی که حداقل یک مقدار گمشده دارد را حذف میکند\n",
    "#دیتا فریم با مقادیر گمشده حذف شده در متغیر دی اف ذخیره میشود\n",
    "df = df.dropna()"
   ]
  },
  {
   "cell_type": "code",
   "execution_count": 827,
   "metadata": {},
   "outputs": [
    {
     "name": "stdout",
     "output_type": "stream",
     "text": [
      "دیتافریم پس از حذف مقادیر گمشده:\n",
      "          Area   Perimeter  Major_Axis_Length  Minor_Axis_Length  Eccentricity  \\\n",
      "0      7551.0  369.063995         163.408829          59.532406      0.931275   \n",
      "1      8546.0  388.580994         172.519959          63.344753      0.930152   \n",
      "2      7833.0  373.157013         162.516434          63.565002      0.920336   \n",
      "3      9292.0  414.118988         183.639710          64.871071      0.935528   \n",
      "4      7943.0  362.673004         154.886322          65.930885      0.904877   \n",
      "...       ...         ...                ...                ...           ...   \n",
      "3812  18313.0  538.497986         222.464249         106.184746      0.878734   \n",
      "3813  17404.0  521.864990         211.063019         106.337822      0.863809   \n",
      "3814  18913.0  541.745972         227.135483         106.948357      0.882209   \n",
      "3815  17948.0  526.918030         214.093826         107.542450      0.864685   \n",
      "3826   9598.0  397.000000         172.006790          72.283646      0.907414   \n",
      "\n",
      "      Convex_Area    Extent     Class  \n",
      "0          7723.0  0.756462  Osmancik  \n",
      "1          8685.0  0.735456  Osmancik  \n",
      "2          8015.0  0.769752  Osmancik  \n",
      "3          9442.0  0.501078  Osmancik  \n",
      "4          8080.0  0.608659  Osmancik  \n",
      "...           ...       ...       ...  \n",
      "3812      18724.0  0.624420    Cammeo  \n",
      "3813      17739.0  0.684658    Cammeo  \n",
      "3814      19099.0  0.804124    Cammeo  \n",
      "3815      18322.0  0.666370    Cammeo  \n",
      "3826       9766.0  0.796845  Osmancik  \n",
      "\n",
      "[3800 rows x 8 columns]\n"
     ]
    }
   ],
   "source": [
    "# نمایش دیتافریم پس از حذف مقادیر گمشده\n",
    "print(\"دیتافریم پس از حذف مقادیر گمشده:\\n\", df)"
   ]
  },
  {
   "cell_type": "code",
   "execution_count": 828,
   "metadata": {},
   "outputs": [
    {
     "name": "stdout",
     "output_type": "stream",
     "text": [
      "رکوردهای شامل مقادیر '؟؟؟':\n",
      "Empty DataFrame\n",
      "Columns: [Area, Perimeter, Major_Axis_Length, Minor_Axis_Length, Eccentricity, Convex_Area, Extent, Class]\n",
      "Index: []\n"
     ]
    }
   ],
   "source": [
    "#برای پیدا کردن و حذف مقادیر \"؟؟؟\" در دیتاست، باید از تابع‌های ریپلیس و دراپ استفاده کنیم\n",
    "# ابتدا  مقادیر \"؟؟؟\" را با مقدار نان (مقدار گمشده) جایگزین و سپس رکوردهای شامل مقادیر نان را حذف میکنیم\n",
    "#ابتدا با استفاده از تابع ریپلیس مقادیر \"؟؟؟\" را با مقدار نان جایگزین می‌کنیم\n",
    "# این تابع برای جایگزینی مقادیر مشخصی با مقدار دلخواه استفاده می‌شود. \n",
    "#برای این منظور، از ان پی دات نان استفاده می‌کنیم که نمایانگر مقدار گمشده در پانداس است\n",
    "#. با انتخاب اینپلیس مساوی ترو، تغییرات به‌صورت مستقیم در دیتافریم اعمال می‌شود\n",
    "#سپس با استفاده از تابع دراپ نا رکوردهایی که حداقل یک ستون در آن‌ها نان دارد را حذف می‌کنیم.\n",
    "#در نهایت، با استفاده از تابع پرینت دیتافریم پس از حذف مقادیر \"؟؟؟\" نمایش داده می‌شود.\n",
    "# شناسایی رکوردهای شامل مقادیر \"؟؟؟\"\n",
    "missing_records = df[df == \"؟؟؟\"].any(axis=1)\n",
    "\n",
    "# چاپ رکوردهای شامل مقادیر \"؟؟؟\"\n",
    "print(\"رکوردهای شامل مقادیر '؟؟؟':\")\n",
    "print(df[missing_records])\n"
   ]
  },
  {
   "cell_type": "code",
   "execution_count": 829,
   "metadata": {},
   "outputs": [
    {
     "name": "stdout",
     "output_type": "stream",
     "text": [
      "دیتافریم پس از حذف مقادیر '؟؟؟':\n",
      "         Area   Perimeter  Major_Axis_Length  Minor_Axis_Length  Eccentricity  \\\n",
      "0      7551.0  369.063995         163.408829          59.532406      0.931275   \n",
      "1      8546.0  388.580994         172.519959          63.344753      0.930152   \n",
      "2      7833.0  373.157013         162.516434          63.565002      0.920336   \n",
      "3      9292.0  414.118988         183.639710          64.871071      0.935528   \n",
      "4      7943.0  362.673004         154.886322          65.930885      0.904877   \n",
      "...       ...         ...                ...                ...           ...   \n",
      "3812  18313.0  538.497986         222.464249         106.184746      0.878734   \n",
      "3813  17404.0  521.864990         211.063019         106.337822      0.863809   \n",
      "3814  18913.0  541.745972         227.135483         106.948357      0.882209   \n",
      "3815  17948.0  526.918030         214.093826         107.542450      0.864685   \n",
      "3826   9598.0  397.000000         172.006790          72.283646      0.907414   \n",
      "\n",
      "      Convex_Area    Extent     Class  \n",
      "0          7723.0  0.756462  Osmancik  \n",
      "1          8685.0  0.735456  Osmancik  \n",
      "2          8015.0  0.769752  Osmancik  \n",
      "3          9442.0  0.501078  Osmancik  \n",
      "4          8080.0  0.608659  Osmancik  \n",
      "...           ...       ...       ...  \n",
      "3812      18724.0  0.624420    Cammeo  \n",
      "3813      17739.0  0.684658    Cammeo  \n",
      "3814      19099.0  0.804124    Cammeo  \n",
      "3815      18322.0  0.666370    Cammeo  \n",
      "3826       9766.0  0.796845  Osmancik  \n",
      "\n",
      "[3800 rows x 8 columns]\n"
     ]
    }
   ],
   "source": [
    "\n",
    "# جایگزینی مقادیر \"؟؟؟\" با NaN\n",
    "df.replace(\"؟؟؟\", np.nan, inplace=True)\n",
    "\n",
    "# حذف رکوردهای شامل مقادیر NaN\n",
    "df.dropna(inplace=True)\n",
    "\n",
    "# نمایش دیتافریم پس از حذف مقادیر \"؟؟؟\"\n",
    "print(\"دیتافریم پس از حذف مقادیر '؟؟؟':\")\n",
    "print(df)\n"
   ]
  },
  {
   "cell_type": "code",
   "execution_count": 830,
   "metadata": {},
   "outputs": [
    {
     "name": "stdout",
     "output_type": "stream",
     "text": [
      "تعداد مقادیر گمشده بعد از حذف مقادیر گمشده:\n",
      " Area                 0\n",
      "Perimeter            0\n",
      "Major_Axis_Length    0\n",
      "Minor_Axis_Length    0\n",
      "Eccentricity         0\n",
      "Convex_Area          0\n",
      "Extent               0\n",
      "Class                0\n",
      "dtype: int64\n"
     ]
    }
   ],
   "source": [
    "#تابع ایزنال برای شناسایی مقادیر گمشده در دیتا فریم\n",
    "#با صدا زدن سام روی نتیجه تعداد مقادیر گمشده در هر ستون محاسبه میشود\n",
    "missing_values = df.isnull().sum()\n",
    "print(\"تعداد مقادیر گمشده بعد از حذف مقادیر گمشده:\\n\", missing_values)"
   ]
  },
  {
   "cell_type": "markdown",
   "metadata": {},
   "source": [
    "Data Normalization"
   ]
  },
  {
   "cell_type": "code",
   "execution_count": 831,
   "metadata": {},
   "outputs": [
    {
     "name": "stdout",
     "output_type": "stream",
     "text": [
      "داده‌های نرمال‌سازی شده:           Area  Perimeter  Major_Axis_Length  Minor_Axis_Length  Eccentricity  \\\n",
      "0    -2.958318  -2.396398          -1.456465          -4.684478      2.134477   \n",
      "1    -2.383581  -1.847896          -0.934211          -4.017995      2.080478   \n",
      "2    -2.795428  -2.281369          -1.507618          -3.979491      1.608443   \n",
      "3    -1.952673  -1.130182          -0.296822          -3.751161      2.338968   \n",
      "4    -2.731889  -2.576009          -1.944979          -3.565882      0.865141   \n",
      "...        ...        ...                ...                ...           ...   \n",
      "3812  3.258082   2.365340           1.928618           3.471379     -0.391920   \n",
      "3813  2.733020   1.897890           1.275094           3.498140     -1.109605   \n",
      "3814  3.604657   2.456621           2.196375           3.604875     -0.224813   \n",
      "3815  3.047248   2.039899           1.448821           3.708735     -1.067463   \n",
      "3826 -1.775920  -1.611290          -0.963626          -2.455280      0.987136   \n",
      "\n",
      "      Convex_Area    Extent     Class  \n",
      "0       -2.947662  1.223219  Osmancik  \n",
      "1       -2.405933  0.951369  Osmancik  \n",
      "2       -2.783229  1.395226  Osmancik  \n",
      "3       -1.979644 -2.081906  Osmancik  \n",
      "4       -2.746626 -0.689617  Osmancik  \n",
      "...           ...       ...       ...  \n",
      "3812     3.247315 -0.485637    Cammeo  \n",
      "3813     2.692633  0.293946    Cammeo  \n",
      "3814     3.458488  1.840060    Cammeo  \n",
      "3815     3.020937  0.057264    Cammeo  \n",
      "3826    -1.797191  1.745856  Osmancik  \n",
      "\n",
      "[3800 rows x 8 columns]\n"
     ]
    }
   ],
   "source": [
    "# یافتن ستون‌های غیر عددی\n",
    "# select_dtypes\n",
    "#برای انتخاب ستون‌ها بر اساس نوع داده آن‌ها استفاده می‌شود. با استفاده از این تابع، می‌توانیم ستون‌هایی را که نوع داده آن‌ها با یک نوع خاص سازگار نیست، انتخاب کنیم\n",
    "# exclude=np.number\n",
    "# این پارامتر به سلکت تایپ میگوید که که ستون‌هایی را که نوع داده آن‌ها عددی نیست، انتخاب کند \n",
    "# .columns\n",
    "# پس از استفاده از سلکت تایپ متغیر بازگشتی آن یک ایندکس از نام ستون های منتخب است \n",
    "# ولی با ایثن دستور میتوانیم لیستی از نام های ستون های غیر عددی را دریافت و در متغیر زیر ذخیره کنیم\n",
    "\n",
    "non_numeric_columns = df.select_dtypes(exclude=np.number).columns\n",
    "\n",
    "# جدا کردن ستون‌های عددی از داده‌ها\n",
    "# و ذخیره کردن این ستون های عددی در متغیر زیر\n",
    "numeric_data = df.select_dtypes(include=np.number)\n",
    "\n",
    "# محاسبه میانگین هر ستون عددی\n",
    "mean = numeric_data.mean()\n",
    "\n",
    "# محاسبه انحراف معیار هر ستون عددی\n",
    "std = numeric_data.std()\n",
    "\n",
    "# نرمال‌سازی داده‌ها با استفاده از میانگین و انحراف معیار محاسبه شده\n",
    "# این کار باعث می‌شود تا داده‌ها در هر ستون عددی، با مقیاس مشابه قرار بگیرند \n",
    "normalized_data = (numeric_data - mean) / std\n",
    "\n",
    "\n",
    "# ایجاد دیتا فریم جدید با داده‌های نرمال‌سازی شده و ستون‌های غیر عددی\n",
    "# از کانکت برای ادغام دیتا فریم ها استفاده شده\n",
    "#اکسیس وان به تابع کانکت میگوید که ادغام را بر اساس ستون ها انجام دهد  \n",
    "\n",
    "normalized_df = pd.concat([normalized_data, df[non_numeric_columns]], axis=1)\n",
    "print(\"داده‌های نرمال‌سازی شده:\", normalized_df)"
   ]
  },
  {
   "cell_type": "code",
   "execution_count": 832,
   "metadata": {},
   "outputs": [
    {
     "name": "stdout",
     "output_type": "stream",
     "text": [
      "میانگین هر ستون (بعد از نرمال‌سازی):\n",
      "Area                -4.786814e-16\n",
      "Perimeter            4.487638e-16\n",
      "Major_Axis_Length   -5.983518e-16\n",
      "Minor_Axis_Length   -2.991759e-16\n",
      "Eccentricity        -6.611787e-15\n",
      "Convex_Area         -5.385166e-16\n",
      "Extent              -2.505598e-16\n",
      "dtype: float64\n",
      "\n",
      "انحراف معیار هر ستون (بعد از نرمال‌سازی):\n",
      "Area                 1.0\n",
      "Perimeter            1.0\n",
      "Major_Axis_Length    1.0\n",
      "Minor_Axis_Length    1.0\n",
      "Eccentricity         1.0\n",
      "Convex_Area          1.0\n",
      "Extent               1.0\n",
      "dtype: float64\n"
     ]
    }
   ],
   "source": [
    "print(\"میانگین هر ستون (بعد از نرمال‌سازی):\")\n",
    "print(normalized_data.mean())\n",
    "print(\"\\nانحراف معیار هر ستون (بعد از نرمال‌سازی):\")\n",
    "print(normalized_data.std())"
   ]
  },
  {
   "cell_type": "markdown",
   "metadata": {},
   "source": [
    "# Processing"
   ]
  },
  {
   "cell_type": "markdown",
   "metadata": {},
   "source": [
    "Getting input"
   ]
  },
  {
   "cell_type": "code",
   "execution_count": 833,
   "metadata": {},
   "outputs": [
    {
     "name": "stdout",
     "output_type": "stream",
     "text": [
      "داده جدید نرمال‌سازی شده:\n",
      "       Area  Perimeter  Major_Axis_Length  Minor_Axis_Length  Eccentricity  \\\n",
      "0 -1.882203  -1.307207          -0.531819          -3.394712      1.928894   \n",
      "\n",
      "   Convex_Area    Extent  \n",
      "0    -1.900243  1.916104  \n"
     ]
    }
   ],
   "source": [
    "\n",
    "# ورودی گرفتن داده جدید\n",
    "# یک دیکشنری خالی به نام نیو دیتا ایجاد میشود برای ذخیره ویژگی ها و مقادیر مربوطه آن ها\n",
    "# یک حلقه فور ایجاد میشود که بر روی ستون های نامریک دیتا حرکت میکند\n",
    "# برای هر ستون عددی یک ورودی از کاربر گرفته میشود و با استفاده از اینپوت مقدار ویژگی را کاربر وارد میکند\n",
    "# و با فلوت آن را به عدد اعشار ی تبدیل میکنیم \n",
    "# مقدار ویژگی وارد شده توسط کاربر را در نیو دیتا ذخیره میکنیم \n",
    "# کلید دیکشنری برابر با نام ویژگی و مقدار آن برابر با ورودی کاربر و ولیو است\n",
    "new_data = {}\n",
    "for feature in numeric_data.columns:\n",
    "    value = float(input(f\"مقدار ویژگی {feature}: \"))\n",
    "    new_data[feature] = value\n",
    "\n",
    "# تبدیل داده جدید در دیکشنری نیو دیتا به یک دیتا فریم\n",
    "new_data = pd.DataFrame(new_data, index=[0])\n",
    "\n",
    "# نرمال‌سازی داده جدید با استفاده از میانگین و انحراف معیار ویژگی‌ها\n",
    "normalized_new_data = (new_data - mean) / std\n",
    "print(\"داده جدید نرمال‌سازی شده:\")\n",
    "print(normalized_new_data)\n"
   ]
  },
  {
   "cell_type": "markdown",
   "metadata": {},
   "source": [
    "Modelling"
   ]
  },
  {
   "cell_type": "code",
   "execution_count": 834,
   "metadata": {},
   "outputs": [
    {
     "name": "stdout",
     "output_type": "stream",
     "text": [
      "Osmancik\n"
     ]
    }
   ],
   "source": [
    "# تعداد همسایه‌های نزدیک\n",
    "#مقدار کا تعیین میکند که چند همسایه نزدیک برای پیش بینی کلاس داده جدید استفاده شود\n",
    "k = 101\n",
    "\n",
    "# محاسبه فاصله اقلیدسی بین داده جدید نرمال شده و تمام داده‌های قبلی نرمال شده\n",
    "# linalg \n",
    "# مخفف Linear Algebra \n",
    "# و به عنوان یک زیرماژول در کتابخانه NumPy وجود دارد \n",
    "# این زیرماژول عملیات مربوط به جبر خطی را فراهم می‌کند، از جمله محاسبه ماتریس‌ها، بردارها، و عملیات ماتریسی.\n",
    "# norm\n",
    "# یک تابع در زیرماژول linalg \n",
    "# نرم یک بردار را محاسبه می‌کند. در اینجا، بردار مورد نظر برابر با تفاضل بین \n",
    "#  normalized_data و normalized_new_data.values[0] است.\n",
    "# دو ماتریس از نوع دیتا فریم از هم کم میشوند\n",
    "# این عملیات تفاضل عنصر به عنصر بین مقادیر متناظر در دو ماتریس را ایجاد می‌کند.\n",
    "# normalized_new_data.values[0] \n",
    "# تابع values \n",
    "# به ما اجازه میدهد که مقادیر دیتا فریم را بصورت آرایه ای دریافت کنیم وبا استفاده از {0}\n",
    "# مقدار یا ردیف اول داده جدید در آرایه را دریافت کنیم\n",
    "# پارامتر axis=1 \n",
    "# به np.linalg.norm \n",
    "# می‌گوید که محاسبه نرم بر روی محور دوم (ستون‌ها) انجام شود \n",
    "# ونتیجه را در متغیر دیستنس ذخیره کند\n",
    "distances = np.linalg.norm(normalized_data - normalized_new_data.values[0], axis=1)\n",
    "\n",
    "# مقادیر ستون کلاس از داده های اصلی نرمال شده را در آرایه کلاس ذخیره میکند\n",
    "# با دات ولیو مقادیر ستون کلاس را بصورت یک آرایه دریافت میکنیم\n",
    "Classes = normalized_df['Class'].values\n",
    "\n",
    "# با استفاده از تابع آرگسورت فهرستی از شاخص ها بر اساس فاصله ها به ترتیب صعودی ایجاد میشود\n",
    "# و این لیست تا اولین کا عنصر انتخاب میشود \n",
    "# این عناصر نشان دهنده شاخص های همسایه های نزدیکترین به داده جدید هستند\n",
    "nearest_neighbors = np.argsort(distances)[:k]\n",
    "\n",
    "\n",
    "'''\n",
    "# اول این کد رو زده بودم\n",
    "# این کد هم درسته\n",
    "# ولی اصلاحی که کردم باعث شد حلقه فور نباشه و بهینه بشه\n",
    "\n",
    "Osmancik = 0\n",
    "Cammeo = 0\n",
    "for neighbor in nearest_neighbors:\n",
    "    neighbor_class = Classes[neighbor]\n",
    "    if neighbor_class == 'Osmancik':\n",
    "        Osmancik += 1\n",
    "    else:\n",
    "        Cammeo += 1\n",
    "if Osmancik > Cammeo:\n",
    "    print(\"Osmancik\")     \n",
    "else:\n",
    "    print(\"Cammeo\")\n",
    "'''\n",
    "\n",
    "\n",
    "# تابع یونیک برای یافتن مقادیر یکتا در یک آرایه \n",
    "# با استفاده از \n",
    "# Classes[nearest_neighbors]\n",
    "# مقادیر کلاس‌های همسایگان نزدیکتر را از آرایه کلاس دریافت میکنیم\n",
    "# return_counts=True\n",
    "# تعداد تکرار هر مقدار یکتا در آرایه خروجی نیز دریافت می‌شود\n",
    "# با جمع‌بندی، این خط کد مقادیر یکتا کلاس‌های موجود در مجاورت نزدیکترین همسایگان را در آرایه \n",
    "#unique_classes\n",
    "# ذخیره می‌کند و تعداد تکرار هر کلاس را در آرایه \n",
    "#class_counts \n",
    "# ذخیره می‌کند. این اطلاعات می‌توانند برای تحلیل و بررسی توزیع کلاس‌ها در این مجاورت‌ها استفاده شوند.\n",
    "\n",
    "unique_classes, class_counts = np.unique(Classes[nearest_neighbors], return_counts=True)\n",
    "\n",
    "# با استفاده از تابع آرگماکس کلاسی که بیشترین تعداد تکرار را دارد انتخاب میکند\n",
    "# این تابع برای یافتن اندیس بزرگترین مقدار در یک آرایه استفاده می‌شود\n",
    "# unique_classes\n",
    "# این متغیر نشان دهنده مقادیر یکتا کلاس‌های موجود در مجاورت نزدیکترین همسایگان است.\n",
    "# class_counts\n",
    "# این متغیر نشان دهنده تعداد تکرار هر کلاس در مجاورت نزدیکترین همسایگان است.\n",
    "# اندیس بزرگترین مقدار در کلاس کانت را مشخص و با استفاده از یونیک کلسز ، کلاس متناظر با این اندیس را دریافت میکنیم\n",
    "most_common_class = unique_classes[np.argmax(class_counts)]\n",
    "\n",
    "print(most_common_class)"
   ]
  },
  {
   "cell_type": "code",
   "execution_count": null,
   "metadata": {},
   "outputs": [],
   "source": []
  }
 ],
 "metadata": {
  "kernelspec": {
   "display_name": "Python 3",
   "language": "python",
   "name": "python3"
  },
  "language_info": {
   "codemirror_mode": {
    "name": "ipython",
    "version": 3
   },
   "file_extension": ".py",
   "mimetype": "text/x-python",
   "name": "python",
   "nbconvert_exporter": "python",
   "pygments_lexer": "ipython3",
   "version": "3.12.2"
  }
 },
 "nbformat": 4,
 "nbformat_minor": 2
}
